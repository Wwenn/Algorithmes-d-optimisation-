{
 "cells": [
  {
   "cell_type": "markdown",
   "metadata": {
    "deletable": false
   },
   "source": [
    "***\n",
    "**Algorithmes d'optimisation -- L3 DD 2020/2021 -- Université Paris-Saclay**\n",
    "***\n",
    "\n",
    "$\\newcommand{\\Rsp}{\\mathbb{R}}\n",
    "\\newcommand{\\nr}[1]{\\|#1\\|}\n",
    "\\newcommand{\\abs}[1]{|#1|}\n",
    "\\newcommand{\\eps}{\\varepsilon}\n",
    "\\newcommand{\\sca}[2]{\\langle#1|#2\\rangle}\n",
    "\\newcommand{\\D}{\\mathrm{D}}\n",
    "\\newcommand{\\hdots}{\\dots}\n",
    "\\newcommand{\\cond}{\\mathrm{cond}}$\n",
    "\n",
    "# TP 5: Projection sur un polyèdre et application en débruitage\n",
    "\n",
    "Dans ce TP, on cherche à appliquer l'algorithme d'Uzawa au calcul de la projection d'un point $p\\in \\Rsp^d$ sur un polyèdre $K$, c'est-à-dire un ensemble convexe défini par un nombre fini d'inégalités affines:\n",
    "\n",
    "$$ K = \\{ x\\in \\Rsp^d \\mid \\forall 1\\leq i\\leq k, c_i(x) \\leq 0 \\} $$\n",
    "\n",
    "où $c_i(x) := \\sca{a_i}{x} - b_i \\leq 0$. \n",
    "Dans la suite, on note $x\\leq y$ où $x,y$ sont deux vecteurs si $\\forall i, x_i\\leq y_i$. En posant $A$ la \n",
    "matrice possédant $k$ lignes notées $a_1,\\hdots,a_k \\in \\Rsp^d$ et $b\\in\\Rsp^k$, on a donc\n",
    "\n",
    "$$ K = \\{ x \\in \\Rsp^d\\mid Ax \\leq b\\} $$\n",
    "\n",
    "\n",
    "## Partie I: Étude et mise en oeuvre de l'algorithme d'Uzawa\n",
    "\n",
    "Dans cette première partie, on donne un algorithme permettant de calculer la projection d'un point $p \\in \\Rsp^d$ sur le polyèdre $K$:\n",
    "\n",
    "$$ (P) := \\min_{x\\in K} \\frac{1}{2} \\nr{x - p}^2 $$\n",
    "\n",
    "Le lagrangien $L$ du problème (P) est donné par\n",
    "\n",
    "$$L: (x,\\lambda)\\in\\Rsp^d\\times \\Rsp^k_+ \\mapsto f(x) + \\sum_{1\\leq i\\leq k} \\lambda_i c_i(x)$$\n",
    "\n",
    "où $f(x) = \\frac{1}{2} \\nr{x - p}^2$, et le problème dual associé à (P) est donc\n",
    "\n",
    "$$ (D) := \\max_{\\lambda \\in \\Rsp^k_+} \\min_{x\\in \\Rsp^d} L(x,\\lambda) $$\n",
    "\n",
    "On rappelle que si $\\lambda^*$ est un maximiseur de (D), alors tout solution du problème de minimisation *sans contrainte* $(P_{\\lambda^*}) = \\min_{x\\in\\Rsp^d} L(x,\\lambda^*)$ est aussi solution du problème (P). En d'autre terme, la connaissance de $\\lambda^*$ permet de remplacer un problème d'optimisation avec contraintes $(P)$ par un problème d'optimisation sans contrainte $(P_{\\lambda^*})$ !\n",
    "\n",
    "Nous allons étudier dans cette partie l'algorithme d'Uzawa. L'idée est de calculer un maximiseur $\\lambda^*$ du problème dual (D) par une méthode de gradient projeté, et de s'en servir pour calculer la solution de (P) en utilisant le dernier rappel. \n",
    "\n",
    "**Q1) [Expression du problème dual]** Dans cette question, il s'agit d'écrire le problème dual de manière plus explicite.\n",
    "\n",
    "- Montrer que le lagrangien associé au problème (P) peut s'écrire $L(x,\\lambda) = \\frac{1}{2}\\nr{x - p}^2  + \\sca{\\lambda}{A x - b}$.\n",
    "- Étant donné $\\lambda \\in \\Rsp^k$, donner l'expression de l'unique solution $x_\\lambda$ du problème de minimisation $\\min_{x \\in \\Rsp^d} L(x,\\lambda).$ Pour cela, poser $f_\\lambda(x) = L(x,\\lambda)$ et calculer son miniseur sur $\\Rsp^d$.\n",
    "- En déduire l'expression suivante du problème dual \n",
    "\n",
    "$$\\begin{aligned}\n",
    "&\\qquad (D) := - \\min_{\\lambda \\in M} h(\\lambda) \\\\\n",
    "&\\hbox{ où } h(\\lambda) =  \\frac{1}{2} \\nr{A^T \\lambda - p}^2 - \\frac{1}{2}\\nr{p}^2 + \\sca{\\lambda}{b} \\hbox{ et } M=\\Rsp_+^k\n",
    "\\end{aligned}$$\n",
    "\n",
    "En particulier, le problème dual est un problème d'optimisation avec contraintes ($x\\in M$), mais l'ensemble de contraintes est très simple.\n",
    "\n",
    "- Montrer que $\\nabla h(\\lambda) = A(A^T \\lambda - p) + b = b - A x_\\lambda$.\n",
    "\n",
    "> **Réponse:** \n",
    "On vérifie facilement que\n",
    "$\n",
    " \\sup_{\\lambda \\in\\Rsp_+^k} \\sca{\\lambda}{A x - b} \n",
    "$ \n",
    "vaut $0$ si $x \\in K$ et $+\\infty$ sinon. Ainsi,\n",
    "$$ (P) = \\inf_{x}\\sup_{\\lambda \\in\\Rsp_+^k} \\frac{1}{2} \\nr{x - p}^2 +\\sca{\\lambda}{A x - b}.$$\n",
    "Le problème dual est construit en échangeant l'ordre de l'inf et du sup:\n",
    "$$ (D) = \\sup_{\\lambda \\in\\Rsp_+^k} \\inf_{x} \\frac{1}{2} \\nr{x - p}^2 +\\sca{\\lambda}{A x - b}.$$\n",
    "On étudie donc le problème de minimisation à $\\lambda$ fixé :\n",
    "$$\n",
    "\\min_{x} \\ell(x,\\lambda)=\\min_{x} \\frac{1}{2} \\nr{x - p}^2 + \\sca{\\lambda}{A x - b}. \n",
    "$$\n",
    "La fonction à minimiser (en $x$, et à $\\lambda$ fixé) est coercive et fortement convexe, elle admet donc un unique minimiseur $x_\\lambda$ vérifiant la condition $ \\nabla_x \\ell (x,\\lambda) =0$ (car le problème d'optimisation n'est pas contraint), soit \n",
    "$ x_\\lambda-p +A^T \\lambda =0$ donc $x_\\lambda = p - A^T \\lambda$. On reporte dela dans $\\ell$\n",
    "et on trouve \n",
    "$$\n",
    "\\frac{1}{2} \\nr{x - p}^2 +\\sca{\\lambda}{A x - b} =\\frac{1}{2} \\nr{- A^T \\lambda}^2 + \\sca{A^t\\lambda}{p - A^T\\lambda}-\\sca{\\lambda}{b} =\\frac{1}{2} \\nr{ A^T \\lambda}^2- \\sca{A^t\\lambda}{ A^T \\lambda} + \\sca{A^T\\lambda}{p}-\\sca{\\lambda}{b}$$\n",
    "$$\n",
    "= -\\frac{1}{2} \\nr{ A^T \\lambda}^2 + \\sca{A^T\\lambda}{p}-\\frac{1}{2} \\nr{p}^2+\\frac{1}{2} \\nr{p}^2-\\sca{\\lambda}{b} = -\\frac{1}{2} \\nr{A^T \\lambda - p}^2+\\frac{1}{2}\\nr{p}^2 - \\sca{\\lambda}{b} =-h(\\lambda)\n",
    "$$\n",
    "\n",
    "Pour calculer $\\nabla h$, on remarque d'abord que la differentielle de $h$ en $\\lambda$ dans la direction $\\xi$ s'écrit $Dh(\\lambda)\\xi= \\sca{A^T \\lambda - p}{A^t\\xi}+\\sca{b}{\\xi}$. Par définition du gradient on a $Dh(\\lambda)\\xi = \\sca{\\nabla h(\\lambda)}{\\xi}$ d'ou $\\nabla h(\\lambda) = A(A^T \\lambda - p) + b.$ (Une autre manière d'obtenir la même formule consisterait à écrire $h(\\lambda) = \\frac{1}{2} \\sca{\\lambda}{Q\\lambda} + \\sca{c}{\\lambda} + d$ pour une matrice symétrique $Q$, d'où l'on déduirait immédiatement $\\nabla h(\\lambda) = Q\\lambda + c$.\n",
    "\n",
    "On a déja calculé dans la question précédente $x_\\lambda = p - A^T \\lambda$ et donc $\\nabla h(\\lambda) = b - A x_\\lambda$.\n"
   ]
  },
  {
   "cell_type": "markdown",
   "metadata": {
    "deletable": false
   },
   "source": [
    "**Algorithme d'Uzawa:** on appelle ainsi l'algorithme du gradient projeté pour le problème dual (D):\n",
    "$$ \\begin{cases}\n",
    "\\lambda^{(0)} = 0 \\in \\Rsp^k \\\\\n",
    "g^{(k)} = \\nabla h(\\lambda^{(k)})\\\\\n",
    "\\lambda^{(k+1)} = p_{\\Rsp_+^k}(\\lambda^{(k)} - \\tau g^{(k)})\\\\\n",
    "x^{(k+1)} = p - A^T \\lambda^{(k+1)} \\quad (\\in \\arg\\min_{x\\in\\Rsp^d} \\ell(x,\\lambda^{(k+1)}))\n",
    "\\end{cases}\n",
    "$$\n",
    "L'algorithme est arrêté lorsque $\\nr{x^{(k)} - x^{(k+1)}}\\leq \\eps$.\n",
    "\n",
    "Pour l'implémentation de l'algorithme, on rappelle que $p_{\\Rsp_+^k}(v) = (\\max(v_1,0),\\hdots,\\max(v_k,0))$.\n",
    "\n",
    "\n",
    "**Q2) [Convergence de l'algorithme d'Uzawa]** On pose  $S_\\tau(\\lambda) := p_{\\Rsp_+^k}(\\lambda - \\tau \\nabla h(\\lambda))$, de sorte que $\\lambda^{(k+1)} = S_\\tau(\\lambda^{(k)})$. \n",
    "- Montrer que la fonction $h$ est convexe.\n",
    "- En déduire que si $\\lambda^*$ est un point fixe de $S_\\tau$, alors $\\lambda^*$ est solution du problème (D) (i.e. maximise $h$ sur $\\Rsp_+^k$).\n",
    "\n",
    "> **Réponse:** \n",
    "Soit $\\lambda^*$ un point fixe de $S_\\tau$. C'est à dire \n",
    "$$\n",
    "\\lambda^*= p_{\\Rsp_+^k}(\\lambda^* - \\tau \\nabla h(\\lambda^*))\n",
    "$$\n",
    "en particulier par définition de la projection cela implique que pour tout $\\lambda \\in \\Rsp_+^k$ \n",
    "$$\n",
    "\\sca{\\lambda-\\lambda^*}{\\lambda^* - \\tau \\nabla h(\\lambda^*)-\\lambda^*}\\leq 0 \n",
    "$$\n",
    "donc pour tout $\\lambda \\in \\Rsp_+^k$  \n",
    "$$\n",
    "\\sca{\\lambda-\\lambda^*}{\\nabla h(\\lambda^*)}\\geq 0, \n",
    "$$\n",
    "Ainsi, en se souvenant que $h$ convexe vérifie $h(\\lambda)\\geq h(\\lambda^*) + \\sca{\\lambda-\\lambda^*}{\\nabla h(\\lambda^*)}$, on en déduit que $\\lambda^*$ est donc l'unique minimiseur de $h$ sur $\\Rsp_+^k$ c'est à dire l'unique maximiseur de $(D)$. \n",
    "\n",
    "Ainsi, si la suite $(\\lambda^{(k)})$ converge, sa limite est un maximiseur $\\lambda^*$ de (D) et $x_{\\lambda^*} = x^*$ est un minimiseur de (P)."
   ]
  },
  {
   "cell_type": "markdown",
   "metadata": {
    "deletable": false
   },
   "source": [
    "\n",
    "**Q3) [Mise en oeuvre]** Mettre en oeuvre l'algorithme d'Uzawa.\n",
    "* Écrire une une fonction `projection_convexe(A,b,p,tau,err=1e-6)` calculant les itérées de $(\\lambda^{(k)}, x^{(k)})$, en arrêtant la boucle dès que $\\nr{x^{(k)}- x^{(k+1)}} \\leq$ `err`. \n",
    "Cette fonction retournera $\\lambda^{(k)}, x^{(k)}$.\n",
    "* Tester cette fonction sur le convexe $K = \\{ x \\in \\Rsp^2\\mid \\nr{x}_1 \\leq 1 \\}$. On commencera par déterminer $A,b$ tel que $K = \\{x \\mid Ax \\leq b \\}$. On vérifiera la validité du calcul de deux manières:\n",
    "  - visuellement, en affichant le segment reliant p à son projeté q = `projection_convexe(A,b,p,tau)`, pour un assez grand nombre (100) de points p choisis aléatoirement dans $[-4,4]^2$.\n",
    "  - en vérifiant que la solution $x,\\lambda$ = projection_convexe(A,b,p,tau) satisfait (à erreur numérique près) les quatre conditions du théorème de Karush-Kuhn-Tucker: $Ax \\leq b$ *(admissibilité de $x$)*, $\\lambda \\geq 0$ *(admissibilité de $\\lambda$)*, $\\forall i, (A x - b)_i \\lambda_i = 0$ *(complémentarité)* et $\\nabla_x \\ell(x,\\lambda) = 0$ *(optimalité)*.\n",
    "* Recommence avec $K = \\{ x \\in\\Rsp^2 \\mid \\nr{x}_\\infty \\leq 1 \\}$.\n",
    "\n",
    "\n"
   ]
  },
  {
   "cell_type": "code",
   "execution_count": 1,
   "metadata": {},
   "outputs": [],
   "source": [
    "import numpy as np\n",
    "import matplotlib.pyplot as plt\n",
    "%matplotlib inline\n",
    "# la commande suivante agrandit les figures\n",
    "plt.rcParams['figure.figsize'] = [9.,6.]\n",
    "\n",
    "def projection_convexe(A,b,p,tau,err=1e-6):\n",
    "    ld = np.zeros(len(b))\n",
    "    x = p - np.dot(A.T,ld)\n",
    "    for i in range(100):\n",
    "        g = b - np.dot(A,x)\n",
    "        ld = np.maximum(ld - tau*g,0)\n",
    "        xnew = p - np.dot(A.T,ld)\n",
    "        if np.linalg.norm(x - xnew) <= err:\n",
    "            break\n",
    "        x = xnew\n",
    "    return x,ld\n"
   ]
  },
  {
   "cell_type": "code",
   "execution_count": 1,
   "metadata": {},
   "outputs": [
    {
     "ename": "NameError",
     "evalue": "name 'np' is not defined",
     "output_type": "error",
     "traceback": [
      "\u001b[0;31m---------------------------------------------------------------------------\u001b[0m",
      "\u001b[0;31mNameError\u001b[0m                                 Traceback (most recent call last)",
      "\u001b[0;32m<ipython-input-1-909200140e12>\u001b[0m in \u001b[0;36m<module>\u001b[0;34m\u001b[0m\n\u001b[0;32m----> 1\u001b[0;31m \u001b[0mA\u001b[0m \u001b[0;34m=\u001b[0m \u001b[0mnp\u001b[0m\u001b[0;34m.\u001b[0m\u001b[0marray\u001b[0m\u001b[0;34m(\u001b[0m\u001b[0;34m[\u001b[0m\u001b[0;34m[\u001b[0m\u001b[0;36m0\u001b[0m\u001b[0;34m,\u001b[0m\u001b[0;36m1\u001b[0m\u001b[0;34m]\u001b[0m\u001b[0;34m,\u001b[0m \u001b[0;34m[\u001b[0m\u001b[0;36m0\u001b[0m\u001b[0;34m,\u001b[0m\u001b[0;34m-\u001b[0m\u001b[0;36m1\u001b[0m\u001b[0;34m]\u001b[0m\u001b[0;34m,\u001b[0m \u001b[0;34m[\u001b[0m\u001b[0;36m1\u001b[0m\u001b[0;34m,\u001b[0m\u001b[0;36m0\u001b[0m\u001b[0;34m]\u001b[0m\u001b[0;34m,\u001b[0m \u001b[0;34m[\u001b[0m\u001b[0;34m-\u001b[0m\u001b[0;36m1\u001b[0m\u001b[0;34m,\u001b[0m\u001b[0;36m0\u001b[0m\u001b[0;34m]\u001b[0m\u001b[0;34m]\u001b[0m\u001b[0;34m)\u001b[0m\u001b[0;34m\u001b[0m\u001b[0;34m\u001b[0m\u001b[0m\n\u001b[0m\u001b[1;32m      2\u001b[0m \u001b[0mb\u001b[0m \u001b[0;34m=\u001b[0m \u001b[0mnp\u001b[0m\u001b[0;34m.\u001b[0m\u001b[0marray\u001b[0m\u001b[0;34m(\u001b[0m\u001b[0;34m[\u001b[0m\u001b[0;36m1\u001b[0m\u001b[0;34m,\u001b[0m\u001b[0;36m1\u001b[0m\u001b[0;34m,\u001b[0m\u001b[0;36m1\u001b[0m\u001b[0;34m,\u001b[0m\u001b[0;36m1\u001b[0m\u001b[0;34m]\u001b[0m\u001b[0;34m)\u001b[0m\u001b[0;34m\u001b[0m\u001b[0;34m\u001b[0m\u001b[0m\n\u001b[1;32m      3\u001b[0m \u001b[0;34m\u001b[0m\u001b[0m\n\u001b[1;32m      4\u001b[0m \u001b[0;31m#A = np.array([[1,1], [1,-1], [-1,1], [-1,-1]])\u001b[0m\u001b[0;34m\u001b[0m\u001b[0;34m\u001b[0m\u001b[0;34m\u001b[0m\u001b[0m\n\u001b[1;32m      5\u001b[0m \u001b[0;31m#b = np.array([1,1,1,1])\u001b[0m\u001b[0;34m\u001b[0m\u001b[0;34m\u001b[0m\u001b[0;34m\u001b[0m\u001b[0m\n",
      "\u001b[0;31mNameError\u001b[0m: name 'np' is not defined"
     ]
    }
   ],
   "source": [
    "A = np.array([[0,1], [0,-1], [1,0], [-1,0]])\n",
    "b = np.array([1,1,1,1])\n",
    "\n",
    "#A = np.array([[1,1], [1,-1], [-1,1], [-1,-1]])\n",
    "#b = np.array([1,1,1,1])\n",
    "\n",
    "#t = np.linspace(0,2*np.pi,10)[:-1]\n",
    "#A = np.array([np.cos(t), np.sin(t)]).T\n",
    "#b = np.ones(9)\n",
    "\n",
    "for i in range(100):\n",
    "    p = 4*(np.random.rand(2)-.5)\n",
    "    x,ld = projection_convexe(A,b,p,tau=0.1)\n",
    "    \n",
    "    if i==0:\n",
    "        print('Verification des conditions du theoreme KKT')\n",
    "        print('1. x verifie les contraintes (Ax <= b): %r' % (np.max(np.dot(A,x)-b) < 1e-4))\n",
    "        print('2. lambda >= 0: %r' % (np.min(ld) > -1e-4))\n",
    "        print('2. |grad_x l(x,lambda)| = %r' % np.linalg.norm(x-p + np.dot(A.T,ld)))\n",
    "        print('3. (Ax -b)_i lambda_i = 0: %r' % (np.max(np.abs((np.dot(A,x) - b)*ld)) < 1e-4))\n",
    "        print('Valeur de (P): %r' % (.5*np.linalg.norm(x - p)**2))\n",
    "        print('Valeurs de (D): %r' % \n",
    "              (- .5*np.linalg.norm(np.dot(A.T,ld) - p)**2 + .5*np.linalg.norm(p)**2 - np.dot(ld,b)))\n",
    "        \n",
    "    plt.plot([p[0],x[0]], [p[1],x[1]],)\n",
    "    plt.axis('equal')\n"
   ]
  },
  {
   "cell_type": "markdown",
   "metadata": {
    "deletable": false
   },
   "source": [
    "## Partie II: Régression isotone\n",
    "\n",
    "Nous allons considérer deux problèmes de débruitage consistant simplement à projeter sur un convexe. Les données sont par exemple des séries temporelles $y = (y_1,\\hdots,y_n)\\in \\Rsp^n$, mesurées avec un bruit. On sait que les données réelles appartiennent à un certain ensemble convexe $K$ de $\\Rsp^n$. Deux exemples\n",
    "\n",
    "- régression isotone: $K = \\{ x\\in \\Rsp^n \\mid \\forall 1\\leq i < n,~x_{i+1}\\geq x_i \\}$\n",
    "- régression convexe: $K = \\{ x\\in \\Rsp^n \\mid \\forall 1 < i < n,~x_{i} \\leq \\frac{1}{2} (x_{i-1} + x_{i+1}) \\}$.\n",
    "\n",
    "À cause du bruit, le vecteur $y$ mesuré n'appartient pas à l'ensemble $K$. L'idée est simplement de débruiter le signal en le projetant sur $K$, soit:\n",
    "\n",
    "$$ (P) := \\min_{x\\in K} \\frac{1}{2} \\nr{x - p}^2 $$\n",
    "\n",
    "**Q1)** Implémenter la régression isotone.\n",
    "- Trouver une matrice $A$ et un vecteur $b$ tel que $K_{iso} = \\{ x\\in \\Rsp^n \\mid Ax \\leq b \\}$.\n",
    "- Utiliser projection_convexe() avec tau=0.1 et avec le vecteur $p$ donné ci-dessous.\n",
    "- Que peut-on dire expérimentalement de la solution $x^*$ aux points $\\{i,i+1\\}$ où $y_{i}\\geq y_{i+1}$ ? \n",
    "- Démontrer ce résultat en utilisant les conditions du théorème KKT."
   ]
  },
  {
   "cell_type": "code",
   "execution_count": 3,
   "metadata": {},
   "outputs": [
    {
     "name": "stdout",
     "output_type": "stream",
     "text": [
      "0.9945218953682728\n"
     ]
    },
    {
     "data": {
      "text/plain": [
       "<matplotlib.legend.Legend at 0x118efbf28>"
      ]
     },
     "execution_count": 3,
     "metadata": {},
     "output_type": "execute_result"
    },
    {
     "data": {
      "image/png": "[encoded data removed]",
      "text/plain": [
       "<Figure size 432x288 with 1 Axes>"
      ]
     },
     "metadata": {},
     "output_type": "display_data"
    }
   ],
   "source": [
    "n = 30\n",
    "t = np.linspace(0,1,n)\n",
    "p = t**2 + .3*np.random.rand(n)\n",
    "\n",
    "A = - np.eye(n,n) + np.eye(n,n,-1)\n",
    "A = A[1:,:]\n",
    "k = A.shape[0]\n",
    "b = np.zeros(k)\n",
    "\n",
    "tau = .5\n",
    "print(np.max(np.abs(np.linalg.eigvals(np.eye(k)- tau*np.dot(A,A.T)))))\n",
    "\n",
    "x,ld = projection_convexe(A,b,p,tau=.1,err=1e-6)\n",
    "plt.plot(t,p,label='courbe source')\n",
    "plt.plot(t,x,label='courbe reconstruite')\n",
    "plt.legend()\n"
   ]
  },
  {
   "cell_type": "markdown",
   "metadata": {
    "deletable": false
   },
   "source": [
    "**Q2)** Implémenter la régression convexe en utilisant projection_convexe() avec tau=0.1 et avec le vecteur $p$ donné ci-dessous. "
   ]
  },
  {
   "cell_type": "code",
   "execution_count": 4,
   "metadata": {},
   "outputs": [
    {
     "data": {
      "text/plain": [
       "<matplotlib.legend.Legend at 0x118fc7630>"
      ]
     },
     "execution_count": 4,
     "metadata": {},
     "output_type": "execute_result"
    },
    {
     "data": {
      "image/png": "[encoded data removed]",
      "text/plain": [
       "<Figure size 432x288 with 1 Axes>"
      ]
     },
     "metadata": {},
     "output_type": "display_data"
    }
   ],
   "source": [
    "p = t**4 + .2*np.random.rand(n)\n",
    "\n",
    "n = 30\n",
    "t = np.linspace(0,1,n)\n",
    "\n",
    "A = - np.eye(n,n) + np.eye(n,n,-1)\n",
    "A = A[1:,:]\n",
    "A = -np.dot(A.T,A)\n",
    "k = A.shape[0]\n",
    "b = np.zeros(k)\n",
    "\n",
    "x,ld = projection_convexe(A,b,p,tau=0.1,err=1e-6)\n",
    "plt.plot(t,p,label='signal mesure')\n",
    "plt.plot(t,x,label='signal reconstruit')\n",
    "plt.legend()\n"
   ]
  }
 ],
 "metadata": {
  "celltoolbar": "None",
  "kernelspec": {
   "display_name": "Python 3 (ipykernel)",
   "language": "python",
   "name": "python3"
  },
  "language_info": {
   "codemirror_mode": {
    "name": "ipython",
    "version": 3
   },
   "file_extension": ".py",
   "mimetype": "text/x-python",
   "name": "python",
   "nbconvert_exporter": "python",
   "pygments_lexer": "ipython3",
   "version": "3.9.7"
  }
 },
 "nbformat": 4,
 "nbformat_minor": 1
}
